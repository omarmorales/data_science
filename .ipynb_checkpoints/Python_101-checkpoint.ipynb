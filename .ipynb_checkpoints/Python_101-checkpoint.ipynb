{
 "cells": [
  {
   "cell_type": "markdown",
   "metadata": {},
   "source": [
    "# Python 101 - Conceptos básicos de programación\n",
    "## Contexto\n",
    "Python es uno de los lenguajes de <a href=\"https://es.wikipedia.org/wiki/Tipado_din%C3%A1mico\">programación dinámicos</a> más populares que existen. Es un lenguaje de propósito general, utilizado para literalmente todo, desde simples **\"scripts\"**, hasta **servidores web** que proveen servicio ininterrumpido 24x7. Es utilizado para la **programación web** tanto en el cliente como en el servidor (<a href=\"https://es.wikipedia.org/wiki/Django_(framework)\">Django</a>, <a href=\"https://es.wikipedia.org/wiki/Flask\">Flask</a>) y **\"testing\"** de aplicaciones. Además tiene una amplia aceptación por científicos que hacen aplicaciones para las supercomputadoras más rápidas del mundo.\n",
    "\n",
    "## Zen de Python\n",
    "<ul>\n",
    "    <li>Bello es mejor que feo.</li>\n",
    "    <li>Explícito es mejor que implícito.</li>\n",
    "    <li>Simple es mejor que complejo.</li>\n",
    "    <li>Complejo es mejor que complicado.</li>\n",
    "    <li>Plano es mejor que anidado.</li>\n",
    "    <li>Espaciado es mejor que denso.</li>\n",
    "    <li>La legibilidad es importante.</li>\n",
    "    <li>Los casos especiales no son lo suficientemente especiales como para romper las reglas. Sin embargo la practicidad le gana a la pureza.</li>\n",
    "    <li>Los errores nunca deberían pasar silenciosamente. A menos que se silencien explícitamente.</li>\n",
    "    <li>Frente a la ambigüedad, evitar la tentación de adivinar.</li>\n",
    "    <li>Debería haber una, y preferiblemente solo una, manera obvia de hacerlo. A pesar de que esa manera no sea obvia a menos que seas Holandés.</li>\n",
    "    <li>Ahora es mejor que nunca. A pesar de que nunca es muchas veces mejor que *ahora* mismo.</li>\n",
    "    <li>Si la implementación es difícil de explicar, es una mala idea.</li>\n",
    "    <li>Si la implementación es fácil de explicar, puede que sea una buena idea.</li>\n",
    "    <li>Los espacios de nombres son una gran idea, ¡tengamos más de esos!</li>\n",
    "</ul>"
   ]
  },
  {
   "cell_type": "markdown",
   "metadata": {},
   "source": [
    "### Para descargar anaconda ir a <a href=\"https://www.anaconda.com/download/\">https://www.anaconda.com/download/</a>"
   ]
  },
  {
   "cell_type": "markdown",
   "metadata": {},
   "source": [
    "![letscoce](img/enough-talk-lets-code.jpg)"
   ]
  },
  {
   "cell_type": "markdown",
   "metadata": {},
   "source": [
    "## PALABRAS RESERVADAS\n",
    "\n",
    "No podemos usar una palabra reservada como nombre de variable, nombre de función o cualquier otro identificador. Se usan para definir la **sintaxis** y la **estructura** del lenguaje Python.\n",
    "\n",
    "En Python, las palabras clave distinguen entre mayúsculas y minúsculas.\n",
    "Hay 33 palabras clave en Python 3.3. Este número puede variar ligeramente en el transcurso del tiempo.\n",
    "\n",
    "<table>\n",
    "  <tr>\n",
    "      <th></th>\n",
    "      <th></th>\n",
    "      <th></th>\n",
    "      <th></th>\n",
    "      <th></th>\n",
    "  </tr>\n",
    "  <tr>\n",
    "    <td>False</td>\n",
    "    <td>class</td> \n",
    "    <td>finally</td>\n",
    "    <td>is</td>\n",
    "    <td>return</td>\n",
    "  </tr>\n",
    "  <tr>\n",
    "    <td>None</td>\n",
    "    <td>continue</td> \n",
    "    <td>for</td>\n",
    "    <td>lambda</td>\n",
    "    <td>try</td>\n",
    "  </tr>\n",
    "  <tr>\n",
    "    <td>True</td>\n",
    "    <td>def</td> \n",
    "    <td>from</td>\n",
    "    <td>nonlocal</td>\n",
    "    <td>while</td>\n",
    "  </tr>\n",
    "  <tr>\n",
    "    <td>and</td>\n",
    "    <td>del</td> \n",
    "    <td>global</td>\n",
    "    <td>not</td>\n",
    "    <td>with</td>\n",
    "  </tr>\n",
    "  <tr>\n",
    "    <td>as</td>\n",
    "    <td>elif</td> \n",
    "    <td>if</td>\n",
    "    <td>or</td>\n",
    "    <td>yield</td>\n",
    "  </tr>\n",
    "  <tr>\n",
    "    <td>assert</td>\n",
    "    <td>else</td> \n",
    "    <td>import</td>\n",
    "    <td>pass</td>\n",
    "    <td></td>\n",
    "  </tr>\n",
    "  <tr>\n",
    "    <td>break</td>\n",
    "    <td>except</td> \n",
    "    <td>in</td>\n",
    "    <td>raise</td>\n",
    "    <td></td>\n",
    "  </tr>\n",
    "</table>\n",
    "\n",
    "Si quieres ver un ejemplo de como se usan estas palabras reservadas, te dejo <a href=\"https://www.programiz.com/python-programming/keyword-list\">este link</a>"
   ]
  },
  {
   "cell_type": "markdown",
   "metadata": {},
   "source": [
    "## IDENTIFICADORES\n",
    "\n",
    "Identificadores en Python es el nombre dado a entidades como clase, funciones, variables, etc. **Ayudan a diferenciar una entidad de otra.**\n",
    "\n",
    "### Reglas para escribir identificadores\n",
    "<ol>\n",
    "    <li>Los identificadores pueden ser una **combinación de letras** en minúsculas (a a z) o mayúsculas (A a Z) o **dígitos** (0 a 9) o un **guión bajo** (_). Nombres como myClass, var_1 e print_this_to_screen, todos son ejemplos válidos.</li>\n",
    "    <li>Un identificador no puede comenzar con un dígito. La variable 1 no es válida, pero la variable 1 está perfectamente bien.</li>\n",
    "    <li>Las palabras reservadas no se pueden usar como identificadores.</li>\n",
    "    <li>No puedes usar simbolos especiales como !, @, #, $, %, etc. en un identificador</li>\n",
    "    <li>El identificador puede ser de cualquier longitud.</li>\n",
    "</ol>\n",
    "\n",
    "### Cosas a tener en cuenta\n",
    "<ul>\n",
    "    <li>Python es un lenguaje sensible a mayúsculas y minúsculas. Esto significa que `Variable` y `variable` no son lo mismo. Siempre nombra identificadores que tengan sentido.</li>\n",
    "    <li>Mientras que, `c = 10` es válido. Escribir `count = 10` tendría más sentido y sería más fácil averiguar lo que hace, incluso cuando ves su código después de mucho tiempo.</li>\n",
    "    <li>Se pueden separar varias palabras usando un guión bajo, `this_is_a_long_variable`.</li>\n",
    "    <li>También podemos usar el estilo de escritura camel-case, es decir, poner en mayúscula cada primera letra de la palabra excepto la palabra inicial sin espacios. Por ejemplo: `camelCaseExample`</li>\n",
    "</ul>"
   ]
  },
  {
   "cell_type": "code",
   "execution_count": 17,
   "metadata": {},
   "outputs": [
    {
     "ename": "SyntaxError",
     "evalue": "invalid syntax (<ipython-input-17-3d177345d6e4>, line 1)",
     "output_type": "error",
     "traceback": [
      "\u001b[1;36m  File \u001b[1;32m\"<ipython-input-17-3d177345d6e4>\"\u001b[1;36m, line \u001b[1;32m1\u001b[0m\n\u001b[1;33m    global = 1\u001b[0m\n\u001b[1;37m           ^\u001b[0m\n\u001b[1;31mSyntaxError\u001b[0m\u001b[1;31m:\u001b[0m invalid syntax\n"
     ]
    }
   ],
   "source": [
    "#palabra reservada global no se puede usar como identificador\n",
    "global = 1"
   ]
  },
  {
   "cell_type": "code",
   "execution_count": 19,
   "metadata": {},
   "outputs": [
    {
     "ename": "SyntaxError",
     "evalue": "invalid syntax (<ipython-input-19-601cfad26617>, line 2)",
     "output_type": "error",
     "traceback": [
      "\u001b[1;36m  File \u001b[1;32m\"<ipython-input-19-601cfad26617>\"\u001b[1;36m, line \u001b[1;32m2\u001b[0m\n\u001b[1;33m    a@ = 0\u001b[0m\n\u001b[1;37m       ^\u001b[0m\n\u001b[1;31mSyntaxError\u001b[0m\u001b[1;31m:\u001b[0m invalid syntax\n"
     ]
    }
   ],
   "source": [
    "# no puedes usar simbolos especiales en un identificador\n",
    "a@ = 0"
   ]
  },
  {
   "cell_type": "markdown",
   "metadata": {},
   "source": [
    "## DECLARACIONES (Statement)\n",
    "Las **instrucciones** que un intérprete de **Python puede ejecutar** se llaman declaraciones. Por ejemplo, a = 1 es una declaración de asignación. if statement, for statement, while statement, etc. son otros tipos de declaraciones que se analizarán más adelante.\n",
    "### Declaración de varias líneas\n",
    "En Python, el final de una declaración está marcado por un carácter de nueva línea. Pero podemos hacer que una declaración se extienda sobre múltiples líneas con el carácter de continuación de línea (\\).\n"
   ]
  },
  {
   "cell_type": "code",
   "execution_count": 21,
   "metadata": {},
   "outputs": [],
   "source": [
    "a = 1 + 2 + 3 + \\\n",
    "    4 + 5 + 6 + \\\n",
    "    7 + 8 + 9"
   ]
  },
  {
   "cell_type": "markdown",
   "metadata": {},
   "source": [
    "Esto también se puede hacer usando () {} []"
   ]
  },
  {
   "cell_type": "code",
   "execution_count": 23,
   "metadata": {},
   "outputs": [],
   "source": [
    "b = (1 + 2 + 3 +\n",
    "    4 + 5 + 6 +\n",
    "    7 + 8 + 9)\n",
    "\n",
    "colors = ['red',\n",
    "          'blue',\n",
    "          'green']"
   ]
  },
  {
   "cell_type": "markdown",
   "metadata": {},
   "source": [
    "## IDENTACIÓN\n",
    "\n",
    "La mayoría de los lenguajes de programación como C, C ++, Java usan llaves {} para definir un bloque de código. Python usa identación.\n",
    "\n",
    "Un bloque de código (cuerpo de una función, ciclo, etc.) comienza con una identación y termina con la primera línea sin identar. La cantidad de identación depende de cada uno, pero debe ser constante a lo largo de ese bloque.\n",
    "\n",
    "En general, se utilizan cuatro espacios en blanco para la identación."
   ]
  },
  {
   "cell_type": "code",
   "execution_count": 24,
   "metadata": {},
   "outputs": [
    {
     "name": "stdout",
     "output_type": "stream",
     "text": [
      "1\n",
      "2\n",
      "3\n",
      "4\n",
      "5\n"
     ]
    }
   ],
   "source": [
    "# ejemplo de identación\n",
    "for i in range(1,11):\n",
    "    print(i)\n",
    "    if i == 5:\n",
    "        break"
   ]
  },
  {
   "cell_type": "markdown",
   "metadata": {},
   "source": [
    "## VARIABLES Y CONSTANTES\n",
    "### Variable\n",
    "En la mayoría de los lenguajes de programación, una variable es **una ubicación con nombre** utilizada para **almacenar datos en la memoria**. Cada variable debe tener un nombre único llamado identificador. Es útil pensar en las variables como **contenedores** que contienen datos que pueden cambiarse más adelante durante la programación.\n",
    "\n",
    "#### Declarando variables\n",
    "En Python, las variables no necesitan declaración para reservar espacio de memoria. La \"declaración de variable\" o \"inicialización de variable\" ocurre automáticamente cuando asignamos un valor a una variable.\n",
    "#### Asignando valor a una variable\n",
    "Puede usar el operador de asignación `=` para asignar el valor a una variable."
   ]
  },
  {
   "cell_type": "code",
   "execution_count": 25,
   "metadata": {},
   "outputs": [
    {
     "name": "stdout",
     "output_type": "stream",
     "text": [
      "Apple.com\n"
     ]
    }
   ],
   "source": [
    "website = \"Apple.com\"\n",
    "print(website)"
   ]
  },
  {
   "cell_type": "code",
   "execution_count": 26,
   "metadata": {},
   "outputs": [
    {
     "name": "stdout",
     "output_type": "stream",
     "text": [
      "5\n",
      "3.2\n",
      "Hello\n"
     ]
    }
   ],
   "source": [
    "# se puede asignar multiples valores a multiples variables\n",
    "a, b, c = 5, 3.2, \"Hello\"\n",
    "print (a)\n",
    "print (b)\n",
    "print (c)"
   ]
  },
  {
   "cell_type": "code",
   "execution_count": 27,
   "metadata": {},
   "outputs": [
    {
     "name": "stdout",
     "output_type": "stream",
     "text": [
      "same\n",
      "same\n",
      "same\n"
     ]
    }
   ],
   "source": [
    "# asignar el mismo valor a diferentes variables\n",
    "x = y = z = \"same\"\n",
    "\n",
    "print (x)\n",
    "print (y)\n",
    "print (z)"
   ]
  },
  {
   "cell_type": "markdown",
   "metadata": {},
   "source": [
    "### Constante\n",
    "\n",
    "Una constante es un tipo de variable cuyo valor no se puede cambiar. Es útil pensar en constantes como contenedores que contienen información que no se puede cambiar más adelante.\n",
    "Deben ser declaradas en mayusculas siempre."
   ]
  },
  {
   "cell_type": "code",
   "execution_count": 28,
   "metadata": {},
   "outputs": [],
   "source": [
    "# declarar una constante\n",
    "PI = 3.14\n",
    "GRAVITY = 9.8"
   ]
  },
  {
   "cell_type": "markdown",
   "metadata": {},
   "source": [
    "## TIPOS DE DATOS\n",
    "### Números\n",
    "Los **enteros**, los números **flotantes** y los números **complejos** pertenecen a la categoría de números Python. Se definen como clase `int`, `float` y `complex` en Python.\n",
    "\n",
    "Podemos usar la función `type()` para saber a qué clase pertenece una variable o un valor y la función `isinstance()` para verificar si un objeto pertenece a una clase en particular."
   ]
  },
  {
   "cell_type": "code",
   "execution_count": 15,
   "metadata": {},
   "outputs": [
    {
     "name": "stdout",
     "output_type": "stream",
     "text": [
      "5 is of type <class 'int'>\n",
      "2.0 is of type <class 'float'>\n",
      "(1+2j) is complex number? True\n"
     ]
    }
   ],
   "source": [
    "a = 5\n",
    "print(a, \"is of type\", type(a))\n",
    "\n",
    "a = 2.0\n",
    "print(a, \"is of type\", type(a))\n",
    "\n",
    "a = 1+2j\n",
    "print(a, \"is complex number?\", isinstance(1+2j,complex))"
   ]
  },
  {
   "cell_type": "markdown",
   "metadata": {},
   "source": [
    "Los **enteros** pueden ser de cualquier longitud, solo están limitados por la memoria disponible.\n",
    "\n",
    "Un **número de punto flotante** es exacto hasta 15 decimales. Los puntos enteros y flotantes están separados por puntos decimales. `1` es un número entero, `1.0` es un número de punto flotante.\n",
    "\n",
    "Los **números complejos** se escriben en la forma, `x + yj`, donde `x` es la parte real e `y` es la parte imaginaria."
   ]
  },
  {
   "cell_type": "markdown",
   "metadata": {},
   "source": [
    "### Lista (List)\n",
    "\n",
    "La lista es una **secuencia ordenada de elementos**. Es uno de los tipos de datos más utilizados en Python y es muy flexible. Todos los elementos en una lista no necesitan ser del mismo tipo.\n",
    "\n",
    "\n",
    "Declarar una lista es bastante directo. Los elementos separados por comas se incluyen entre corchetes `[]`.\n",
    "\n",
    "`a = [1, 2.2, 'python']`\n",
    "\n",
    "Podemos usar el operador de división `[]` para extraer un elemento o un rango de elementos de una lista. El índice comienza la forma 0 en Python."
   ]
  },
  {
   "cell_type": "code",
   "execution_count": 29,
   "metadata": {},
   "outputs": [
    {
     "name": "stdout",
     "output_type": "stream",
     "text": [
      "a[2] =  15\n",
      "a[0:3] =  [5, 10, 15]\n",
      "a[5:] =  [30, 35, 40]\n"
     ]
    }
   ],
   "source": [
    "a = [5,10,15,20,25,30,35,40]\n",
    "\n",
    "# a[2] = 15\n",
    "print(\"a[2] = \", a[2])\n",
    "\n",
    "# a[0:3] = [5, 10, 15]\n",
    "print(\"a[0:3] = \", a[0:3])\n",
    "\n",
    "# a[5:] = [30, 35, 40]\n",
    "print(\"a[5:] = \", a[5:])"
   ]
  },
  {
   "cell_type": "markdown",
   "metadata": {},
   "source": [
    "Las listas son mutables, es decir, el valor de los elementos de una lista puede modificarse."
   ]
  },
  {
   "cell_type": "code",
   "execution_count": 30,
   "metadata": {},
   "outputs": [
    {
     "data": {
      "text/plain": [
       "[1, 2, 4]"
      ]
     },
     "execution_count": 30,
     "metadata": {},
     "output_type": "execute_result"
    }
   ],
   "source": [
    "a = [1,2,3]\n",
    "a[2]=4\n",
    "a"
   ]
  },
  {
   "cell_type": "markdown",
   "metadata": {},
   "source": [
    "### Tuplas (Tuple)\n",
    "Tuple es una **secuencia ordenada de elementos** igual que la lista. La única diferencia es que las tuplas son **inmutables**. Las tuplas una vez creadas no se pueden modificar.\n",
    "\n",
    "Las tuplas se usan para **proteger contra escritura de datos** y generalmente son más rápidas que la lista, ya que no pueden cambiar dinámicamente.\n",
    "\n",
    "Se define entre paréntesis `()` donde los elementos están separados por comas."
   ]
  },
  {
   "cell_type": "code",
   "execution_count": 32,
   "metadata": {},
   "outputs": [
    {
     "data": {
      "text/plain": [
       "(5, 'program', (1+3j))"
      ]
     },
     "execution_count": 32,
     "metadata": {},
     "output_type": "execute_result"
    }
   ],
   "source": [
    "t = (5,'program', 1+3j)\n",
    "t"
   ]
  },
  {
   "cell_type": "markdown",
   "metadata": {},
   "source": [
    "### Cadenas (Strings)\n",
    "String es una secuencia de caracteres Unicode. Podemos usar comillas simples o comillas dobles para representar cadenas. Las cadenas de varias líneas se pueden denotar utilizando comillas triples, `'''` o `\"\"\"`."
   ]
  },
  {
   "cell_type": "code",
   "execution_count": 35,
   "metadata": {},
   "outputs": [
    {
     "name": "stdout",
     "output_type": "stream",
     "text": [
      "s[4] =  o\n"
     ]
    }
   ],
   "source": [
    "s = 'Hello world!'\n",
    "\n",
    "# s[4] = 'o'\n",
    "print(\"s[4] = \", s[4])"
   ]
  },
  {
   "cell_type": "markdown",
   "metadata": {},
   "source": [
    "### Set\n",
    " es una **colección desordenada** de elementos **únicos**. Set está definido por valores separados por comas dentro de llaves `{}`. Los artículos en un set no están ordenados."
   ]
  },
  {
   "cell_type": "code",
   "execution_count": 36,
   "metadata": {},
   "outputs": [
    {
     "name": "stdout",
     "output_type": "stream",
     "text": [
      "a =  {1, 2, 3, 4, 5}\n",
      "<class 'set'>\n"
     ]
    }
   ],
   "source": [
    "a = {5,2,3,1,4}\n",
    "\n",
    "# printing set variable\n",
    "print(\"a = \", a)\n",
    "\n",
    "# data type of variable a\n",
    "print(type(a))"
   ]
  },
  {
   "cell_type": "markdown",
   "metadata": {},
   "source": [
    "Podemos realizar operaciones de conjunto como unión, intersección en dos conjuntos. Set tiene valores únicos. Eliminan duplicados."
   ]
  },
  {
   "cell_type": "code",
   "execution_count": 38,
   "metadata": {},
   "outputs": [
    {
     "data": {
      "text/plain": [
       "{1, 2, 3}"
      ]
     },
     "execution_count": 38,
     "metadata": {},
     "output_type": "execute_result"
    }
   ],
   "source": [
    "a = {1,2,2,3,3,3}\n",
    "a"
   ]
  },
  {
   "cell_type": "markdown",
   "metadata": {},
   "source": [
    "### Diccionario (Dictionary)\n",
    "\n",
    "El diccionario es una **colección desordenada** de pares clave-valor.\n",
    "\n",
    "Generalmente se usa cuando tenemos una **gran cantidad de datos**. Los diccionarios están optimizados para recuperar datos. Debemos conocer la clave para recuperar el valor.\n",
    "\n",
    "En Python, los diccionarios **se definen entre llaves** `{}` con cada elemento siendo un par en la clave de formulario: valor. La clave y el valor pueden ser de cualquier tipo."
   ]
  },
  {
   "cell_type": "code",
   "execution_count": 44,
   "metadata": {},
   "outputs": [
    {
     "name": "stdout",
     "output_type": "stream",
     "text": [
      "d[1] =  value\n",
      "d['key'] =  2\n"
     ]
    }
   ],
   "source": [
    "d = {1:'value','key':2}\n",
    "type(d)\n",
    "print(\"d[1] = \", d[1]);\n",
    "\n",
    "print(\"d['key'] = \", d['key']);"
   ]
  },
  {
   "cell_type": "markdown",
   "metadata": {},
   "source": [
    "## OPERADORES\n",
    "Los operadores son símbolos especiales en Python que realizan cálculos aritméticos o lógicos. El valor que opera el operador se llama operando.\n",
    "\n",
    "### Operadores aritméticos\n",
    "<table>\n",
    "    <thead>\n",
    "        <tr>\n",
    "            <th>Operador</th>\n",
    "            <th>Significado</th>\n",
    "            <th>Ejemplo</th>\n",
    "        </tr>\n",
    "    </thead>\n",
    "    <tbody>\n",
    "        <tr>\n",
    "            <td>`+`</td>\n",
    "            <td>suma</td>\n",
    "            <td>x + y + 2</td>\n",
    "        </tr>\n",
    "        <tr>\n",
    "            <td>`-`</td>\n",
    "            <td>resta</td>\n",
    "            <td>x - y - 2</td>\n",
    "        </tr>\n",
    "        <tr>\n",
    "            <td>`*`</td>\n",
    "            <td>multiplicación</td>\n",
    "            <td>x `*` y</td>\n",
    "        </tr>\n",
    "        <tr>\n",
    "            <td>`/`</td>\n",
    "            <td>división</td>\n",
    "            <td>x `/` y</td>\n",
    "        </tr>\n",
    "        <tr>\n",
    "            <td>`%`</td>\n",
    "            <td>modulo - resto de la división de un número por otro</td>\n",
    "            <td>x `%` y</td>\n",
    "        </tr>\n",
    "         <tr>\n",
    "            <td>`//`</td>\n",
    "            <td>Cociente de una división - El resultado es siempre un número entero</td>\n",
    "            <td>x `//` y</td>\n",
    "        </tr>\n",
    "         <tr>\n",
    "            <td>`**`</td>\n",
    "            <td>Potencia</td>\n",
    "            <td>x `**` y</td>\n",
    "        </tr>\n",
    "    </tbody>\n",
    "</table>"
   ]
  },
  {
   "cell_type": "code",
   "execution_count": 49,
   "metadata": {},
   "outputs": [
    {
     "name": "stdout",
     "output_type": "stream",
     "text": [
      "x + y = 19\n",
      "x - y = 11\n",
      "x * y = 60\n",
      "x / y = 3.75\n",
      "x // y = 3\n",
      "x ** y = 50625\n"
     ]
    }
   ],
   "source": [
    "x = 15\n",
    "y = 4\n",
    "\n",
    "print('x + y =',x+y)\n",
    "print('x - y =',x-y)\n",
    "print('x * y =',x*y)\n",
    "print('x / y =',x/y)\n",
    "print('x // y =',x//y)\n",
    "print('x ** y =',x**y)"
   ]
  },
  {
   "cell_type": "markdown",
   "metadata": {},
   "source": [
    "### Operadores de comparación\n",
    "Los operadores de comparación se usan para comparar valores. Devuelve `True` o `False` según la condición.\n",
    "\n",
    "<table>\n",
    "    <thead>\n",
    "        <tr>\n",
    "            <th>Operador</th>\n",
    "            <th>Significado</th>\n",
    "            <th>Ejemplo</th>\n",
    "        </tr>\n",
    "    </thead>\n",
    "    <tbody>\n",
    "        <tr>\n",
    "            <td>`>`</td>\n",
    "            <td>mayor que</td>\n",
    "            <td>x > y</td>\n",
    "        </tr>\n",
    "        <tr>\n",
    "            <td>`<`</td>\n",
    "            <td>menor que</td>\n",
    "            <td>x < y</td>\n",
    "        </tr>\n",
    "        <tr>\n",
    "            <td>`==`</td>\n",
    "            <td>igual</td>\n",
    "            <td>x = y</td>\n",
    "        </tr>\n",
    "        <tr>\n",
    "            <td>`!=`</td>\n",
    "            <td>diferente</td>\n",
    "            <td>x != y</td>\n",
    "        </tr>\n",
    "        <tr>\n",
    "            <td>`>=`</td>\n",
    "            <td>mayor igual</td>\n",
    "            <td>x `>=` y</td>\n",
    "        </tr>\n",
    "         <tr>\n",
    "            <td>`<=`</td>\n",
    "            <td>menor igual</td>\n",
    "            <td>x `<=` y</td>\n",
    "        </tr>\n",
    "    </tbody>\n",
    "</table>"
   ]
  },
  {
   "cell_type": "code",
   "execution_count": 50,
   "metadata": {},
   "outputs": [
    {
     "name": "stdout",
     "output_type": "stream",
     "text": [
      "x > y  is False\n",
      "x < y  is True\n",
      "x == y is False\n",
      "x != y is True\n",
      "x >= y is False\n",
      "x <= y is True\n"
     ]
    }
   ],
   "source": [
    "x = 10\n",
    "y = 12\n",
    "\n",
    "print('x > y  is',x>y)\n",
    "print('x < y  is',x<y)\n",
    "print('x == y is',x==y)\n",
    "print('x != y is',x!=y)\n",
    "print('x >= y is',x>=y)\n",
    "print('x <= y is',x<=y)"
   ]
  },
  {
   "cell_type": "markdown",
   "metadata": {},
   "source": [
    "### Operadores lógicos\n",
    "Los operadores lógicos son `and`,` or`, `not`.\n",
    "\n",
    "#### and\n",
    "`and` dará como resultado `True` solo si ambos operandos son Verdaderos. La tabla de verdad para `and` se da a continuación:\n",
    "<table>\n",
    "    <thead>\n",
    "        <tr>\n",
    "            <th>A</th>\n",
    "            <th>B</th>\n",
    "            <th>A and B</th>\n",
    "        </tr>\n",
    "    </thead>\n",
    "    <tbody>\n",
    "        <tr>\n",
    "            <td>True</td>\n",
    "            <td>True</td>\n",
    "            <td>True</td>\n",
    "        </tr>\n",
    "        <tr>\n",
    "            <td>True</td>\n",
    "            <td>False</td>\n",
    "            <td>False</td>\n",
    "        </tr>\n",
    "        <tr>\n",
    "            <td>False</td>\n",
    "            <td>True</td>\n",
    "            <td>False</td>\n",
    "        </tr>\n",
    "        <tr>\n",
    "            <td>False</td>\n",
    "            <td>False</td>\n",
    "            <td>False</td>\n",
    "        </tr>\n",
    "    </tbody>\n",
    "</table>\n",
    "\n",
    "#### or\n",
    "`or` dará como resultado `True` solo si alguno de los operandos son Verdaderos. La tabla de verdad para `or` se da a continuación:\n",
    "<table>\n",
    "    <thead>\n",
    "        <tr>\n",
    "            <th>A</th>\n",
    "            <th>B</th>\n",
    "            <th>A and B</th>\n",
    "        </tr>\n",
    "    </thead>\n",
    "    <tbody>\n",
    "        <tr>\n",
    "            <td>True</td>\n",
    "            <td>True</td>\n",
    "            <td>True</td>\n",
    "        </tr>\n",
    "        <tr>\n",
    "            <td>True</td>\n",
    "            <td>False</td>\n",
    "            <td>True</td>\n",
    "        </tr>\n",
    "        <tr>\n",
    "            <td>False</td>\n",
    "            <td>True</td>\n",
    "            <td>True</td>\n",
    "        </tr>\n",
    "        <tr>\n",
    "            <td>False</td>\n",
    "            <td>False</td>\n",
    "            <td>False</td>\n",
    "        </tr>\n",
    "    </tbody>\n",
    "</table>\n",
    "\n",
    "#### not\n",
    "`not` dará como resultado `True` solo si alguno de los operandos son Verdaderos. La tabla de verdad para `or` se da a continuación:\n",
    "<table>\n",
    "    <thead>\n",
    "        <tr>\n",
    "            <th>A</th>\n",
    "            <th>not A</th>\n",
    "        </tr>\n",
    "    </thead>\n",
    "    <tbody>\n",
    "        <tr>\n",
    "            <td>True</td>\n",
    "            <td>False</td>\n",
    "        </tr>\n",
    "        <tr>\n",
    "            <td>False</td>\n",
    "            <td>True</td>\n",
    "        </tr>\n",
    "    </tbody>\n",
    "</table>"
   ]
  },
  {
   "cell_type": "code",
   "execution_count": 58,
   "metadata": {},
   "outputs": [
    {
     "data": {
      "text/plain": [
       "False"
      ]
     },
     "execution_count": 58,
     "metadata": {},
     "output_type": "execute_result"
    }
   ],
   "source": [
    "True and False\n",
    "#tambien se puede escribir True & False"
   ]
  },
  {
   "cell_type": "code",
   "execution_count": 60,
   "metadata": {},
   "outputs": [
    {
     "data": {
      "text/plain": [
       "True"
      ]
     },
     "execution_count": 60,
     "metadata": {},
     "output_type": "execute_result"
    }
   ],
   "source": [
    "True or False\n",
    "# True | False"
   ]
  },
  {
   "cell_type": "code",
   "execution_count": 63,
   "metadata": {},
   "outputs": [
    {
     "data": {
      "text/plain": [
       "True"
      ]
     },
     "execution_count": 63,
     "metadata": {},
     "output_type": "execute_result"
    }
   ],
   "source": [
    "not False"
   ]
  },
  {
   "cell_type": "markdown",
   "metadata": {},
   "source": [
    "### Operadores de asignación\n",
    "\n",
    "Los operadores de asignación se usan en Python para asignar valores a las variables.\n",
    "\n",
    "<table>\n",
    "    <thead>\n",
    "        <tr>\n",
    "            <th>Operador</th>\n",
    "            <th>ejemplo</th>\n",
    "            <th>Equivalente a</th>\n",
    "        </tr>\n",
    "    </thead>\n",
    "    <tbody>\n",
    "        <tr>\n",
    "            <td>`=`</td>\n",
    "            <td>`x=5`</td>\n",
    "            <td>`x = 5`</td>\n",
    "        </tr>\n",
    "        <tr>\n",
    "            <td>`+=`</td>\n",
    "            <td>`x+=5`</td>\n",
    "            <td>`x = x +5`</td>\n",
    "        </tr>\n",
    "        <tr>\n",
    "            <td>`-=`</td>\n",
    "            <td>`x-=5`</td>\n",
    "            <td>`x = x -5`</td>\n",
    "        </tr>\n",
    "        <tr>\n",
    "            <td>`*=`</td>\n",
    "            <td>`x*=5`</td>\n",
    "            <td>`x = x*5`</td>\n",
    "        </tr>\n",
    "    </tbody>\n",
    "</table>"
   ]
  },
  {
   "cell_type": "markdown",
   "metadata": {},
   "source": [
    "## Operadores de identidad\n",
    "\n",
    "`is` y `is not` son los operadores de identidad en Python. Se usan para verificar si dos valores (o variables) se encuentran en la misma parte de la memoria. Dos variables que son iguales no implican que sean idénticas.\n",
    "\n",
    "<table>\n",
    "    <thead>\n",
    "        <tr>\n",
    "            <th>Operador</th>\n",
    "            <th>significado</th>\n",
    "            <th>ejemplo a</th>\n",
    "        </tr>\n",
    "    </thead>\n",
    "    <tbody>\n",
    "        <tr>\n",
    "            <td>`is`</td>\n",
    "            <td>True si los operandos son idénticos</td>\n",
    "            <td>`x is True`</td>\n",
    "        </tr>\n",
    "        <tr>\n",
    "            <td>`is not`</td>\n",
    "            <td>True si los operandos no son idénticos</td>\n",
    "            <td>`x is not True`</td>\n",
    "        </tr>\n",
    "    </tbody>\n",
    "</table>"
   ]
  },
  {
   "cell_type": "code",
   "execution_count": 65,
   "metadata": {},
   "outputs": [
    {
     "name": "stdout",
     "output_type": "stream",
     "text": [
      "False\n",
      "True\n",
      "False\n"
     ]
    }
   ],
   "source": [
    "x1 = 5\n",
    "y1 = 5\n",
    "x2 = 'Hello'\n",
    "y2 = 'Hello'\n",
    "x3 = [1,2,3]\n",
    "y3 = [1,2,3]\n",
    "\n",
    "print(x1 is not y1)\n",
    "\n",
    "print(x2 is y2)\n",
    "\n",
    "print(x3 is y3)"
   ]
  },
  {
   "cell_type": "markdown",
   "metadata": {},
   "source": [
    "### Operadores de pertenecia\n",
    "\n",
    "`in` y `not in` son los operadores de pertenecia en Python. Se usan para probar si un valor o variable se encuentra en una secuencia (cadena, lista, tupla, conjunto y diccionario).\n",
    "\n",
    "<table>\n",
    "    <thead>\n",
    "        <tr>\n",
    "            <th>Operador</th>\n",
    "            <th>significado</th>\n",
    "            <th>ejemplo a</th>\n",
    "        </tr>\n",
    "    </thead>\n",
    "    <tbody>\n",
    "        <tr>\n",
    "            <td>`in`</td>\n",
    "            <td>True si la variable o valor se encuentra en la secuencia</td>\n",
    "            <td>`5 in x`</td>\n",
    "        </tr>\n",
    "        <tr>\n",
    "            <td>`not in`</td>\n",
    "            <td>True si la variable o valor no se encuentra en la secuencia</td>\n",
    "            <td>`5 not in x`</td>\n",
    "        </tr>\n",
    "    </tbody>\n",
    "</table>"
   ]
  },
  {
   "cell_type": "code",
   "execution_count": 66,
   "metadata": {},
   "outputs": [
    {
     "name": "stdout",
     "output_type": "stream",
     "text": [
      "True\n",
      "True\n",
      "True\n",
      "False\n"
     ]
    }
   ],
   "source": [
    "x = 'Hello world'\n",
    "y = {1:'a',2:'b'}\n",
    "\n",
    "print('H' in x)\n",
    "\n",
    "print('hello' not in x)\n",
    "\n",
    "print(1 in y)\n",
    "\n",
    "print('a' in y)"
   ]
  }
 ],
 "metadata": {
  "kernelspec": {
   "display_name": "Python 3",
   "language": "python",
   "name": "python3"
  },
  "language_info": {
   "codemirror_mode": {
    "name": "ipython",
    "version": 3
   },
   "file_extension": ".py",
   "mimetype": "text/x-python",
   "name": "python",
   "nbconvert_exporter": "python",
   "pygments_lexer": "ipython3",
   "version": "3.6.4"
  }
 },
 "nbformat": 4,
 "nbformat_minor": 2
}
